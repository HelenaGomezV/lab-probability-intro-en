{
 "cells": [
  {
   "cell_type": "markdown",
   "metadata": {},
   "source": [
    "# Probability"
   ]
  },
  {
   "cell_type": "markdown",
   "metadata": {},
   "source": [
    "## Challenge 1\n",
    "There is a box with 10 white balls, 12 red balls and 8 black balls. Calculate the probability of:\n",
    "* Taking a white ball out.\n",
    "* Taking a white ball on first extraction and a black ball out on second extraction without replacing the first one.\n",
    "* Taking a white ball on first extraction and a black ball out on second extraction replacing the first one.\n",
    "* Taking 3 balls and them being all different colours."
   ]
  },
  {
   "cell_type": "code",
   "execution_count": 9,
   "metadata": {},
   "outputs": [
    {
     "name": "stdout",
     "output_type": "stream",
     "text": [
      "Probability of taking a white ball: 0.33\n",
      "Probability of taking a black ball: 0.27\n",
      "Probability of taking a white then black ball (with replacement): 0.09\n",
      "Favorable combos: 960\n",
      "Total combos: 4060\n",
      "Probability(all different colours): 0.2365\n",
      "Which is: 23.65%\n"
     ]
    }
   ],
   "source": [
    "# YOUR CODE HERE\n",
    "import math \n",
    "# Number of balls by color\n",
    "white_balls = 10\n",
    "red_balls = 12\n",
    "black_balls = 8\n",
    "\n",
    "# Total number of balls\n",
    "total_balls = white_balls + red_balls + black_balls\n",
    "\n",
    "# Probability of taking a white ball first\n",
    "prob_white = white_balls / total_balls\n",
    "print(f\"Probability of taking a white ball: {prob_white:.2f}\")\n",
    "\n",
    "# Probability of taking a black ball second (with replacement)\n",
    "prob_black = black_balls / total_balls\n",
    "print(f\"Probability of taking a black ball: {prob_black:.2f}\")\n",
    "\n",
    "# Joint probability: white first and black second (with replacement)\n",
    "prob_black_white = prob_white * prob_black\n",
    "print(f\"Probability of taking a white then black ball (with replacement): {prob_black_white:.2f}\")\n",
    "\n",
    "# Casos favorables: 1 blanca, 1 roja, 1 negra\n",
    "favorable = (\n",
    "    math.comb(white_balls, 1) *\n",
    "    math.comb(red_balls, 1) *\n",
    "    math.comb(black_balls, 1)\n",
    ")\n",
    "\n",
    "# Casos totales: elegir 3 bolas cualquiera de las 30\n",
    "total = math.comb(total_balls, 3)\n",
    "\n",
    "prob_diff_colors = favorable / total\n",
    "\n",
    "print(f\"Favorable combos: {favorable}\")\n",
    "print(f\"Total combos: {total}\")\n",
    "print(f\"Probability(all different colours): {prob_diff_colors:.4f}\")\n",
    "print(f\"Which is: {prob_diff_colors*100:.2f}%\")\n",
    "\n"
   ]
  },
  {
   "cell_type": "markdown",
   "metadata": {},
   "source": [
    "## Challenge 2\n",
    "\n",
    "You want to go on picnic on Saturday. You hate rain, and would know to plan your weekend. To help you make a decision, you gather the following data about rainy days:\n",
    "\n",
    "* 40% of all days are cloudy.\n",
    "* About 50% of cloudy days are rainy. \n",
    "* About 20% of non-cloudy days are rainy.\n",
    "\n",
    "What is the chance of rain during next Saturday?"
   ]
  },
  {
   "cell_type": "code",
   "execution_count": 10,
   "metadata": {},
   "outputs": [
    {
     "name": "stdout",
     "output_type": "stream",
     "text": [
      "=== Probability of Rain on Saturday ===\n",
      "P(Rain) = 0.32\n",
      "That means there's a 32.0% chance of rain on Saturday.\n"
     ]
    }
   ],
   "source": [
    "# YOUR CODE HERE\n",
    "# Given probabilities\n",
    "p_cloudy = 0.40                  # 40% of days are cloudy\n",
    "p_rain_given_cloudy = 0.50       # 50% of cloudy days are rainy\n",
    "p_rain_given_not_cloudy = 0.20   # 20% of non-cloudy days are rainy\n",
    "\n",
    "# Complement probability\n",
    "p_not_cloudy = 1 - p_cloudy\n",
    "\n",
    "# Law of Total Probability\n",
    "p_rain = (p_cloudy * p_rain_given_cloudy) + (p_not_cloudy * p_rain_given_not_cloudy)\n",
    "\n",
    "# Display result\n",
    "print(\"=== Probability of Rain on Saturday ===\")\n",
    "print(f\"P(Rain) = {p_rain:.2f}\")\n",
    "print(f\"That means there's a {p_rain * 100:.1f}% chance of rain on Saturday.\")\n"
   ]
  },
  {
   "cell_type": "markdown",
   "metadata": {},
   "source": [
    "## Challenge 3\n",
    "\n",
    "A and B are events of a probability such that $P(A) = 0.3$, $P(B) = 0.6$ and $P(A \\cap B) = 0.1$\n",
    "\n",
    "Which of the following statements are true?  \n",
    "**HINT: draw a big Venn Diagram by your side**  \n",
    "* $P(\\overline{A}) = 0.7$\n",
    "* $P(A \\cup B) = 0.6$\n",
    "* $P(A \\cap \\overline{B}) = 0.2$\n",
    "* $P(A \\cup \\overline{A}) = 1$  \n",
    "* $P(A \\cap (B \\cup \\overline{B})) = 0.4$\n",
    "* $P(\\overline{A} \\cap \\overline{B}) = 0.3$\n",
    "* $P(\\overline{A \\cap B}) = 0.9$\n",
    "  "
   ]
  },
  {
   "cell_type": "code",
   "execution_count": 12,
   "metadata": {},
   "outputs": [
    {
     "name": "stdout",
     "output_type": "stream",
     "text": [
      "               Statement  Is True?\n",
      "0            P(¬A) = 0.7      True\n",
      "1         P(A ∪ B) = 0.6     False\n",
      "2        P(A ∩ ¬B) = 0.2      True\n",
      "3          P(A ∪ ¬A) = 1      True\n",
      "4  P(A ∩ (B ∪ ¬B)) = 0.4     False\n",
      "5       P(¬A ∩ ¬B) = 0.3     False\n",
      "6      P(¬(A ∩ B)) = 0.9      True\n"
     ]
    }
   ],
   "source": [
    "# Given probabilities\n",
    "P_A = 0.3\n",
    "P_B = 0.6\n",
    "P_A_and_B = 0.1\n",
    "\n",
    "# Derived probabilities\n",
    "P_not_A = 1 - P_A\n",
    "P_A_or_B = P_A + P_B - P_A_and_B\n",
    "P_A_and_not_B = P_A - P_A_and_B\n",
    "P_A_or_not_A = 1\n",
    "P_A_and_B_or_not_B = P_A  # (B ∪ ¬B) = Universe\n",
    "P_not_A_and_not_B = 1 - P_A_or_B\n",
    "P_not_A_and_Both = 1 - P_A_and_B\n",
    "\n",
    "# Evaluate each statement\n",
    "statements = {\n",
    "    \"P(¬A) = 0.7\": abs(P_not_A - 0.7) < 1e-6,\n",
    "    \"P(A ∪ B) = 0.6\": abs(P_A_or_B - 0.6) < 1e-6,\n",
    "    \"P(A ∩ ¬B) = 0.2\": abs(P_A_and_not_B - 0.2) < 1e-6,\n",
    "    \"P(A ∪ ¬A) = 1\": abs(P_A_or_not_A - 1) < 1e-6,\n",
    "    \"P(A ∩ (B ∪ ¬B)) = 0.4\": abs(P_A_and_B_or_not_B - 0.4) < 1e-6,\n",
    "    \"P(¬A ∩ ¬B) = 0.3\": abs(P_not_A_and_not_B - 0.3) < 1e-6,\n",
    "    \"P(¬(A ∩ B)) = 0.9\": abs(P_not_A_and_Both - 0.9) < 1e-6\n",
    "}\n",
    "\n",
    "import pandas as pd\n",
    "\n",
    "df_results = pd.DataFrame({\n",
    "    \"Statement\": statements.keys(),\n",
    "    \"Is True?\": statements.values()\n",
    "})\n",
    "\n",
    "print(df_results)\n",
    "\n",
    "  \n"
   ]
  },
  {
   "cell_type": "markdown",
   "metadata": {},
   "source": [
    "## Challenge 4\n",
    "\n",
    " * If someone flies to China, the probability of getting Covid is 1%  \n",
    " * If someone flies to Italy, the probability of getting Covid is 20%  \n",
    "\n",
    "I roll 1 dice with numbers 1, 2, 3, 4, 5, 6:  \n",
    " * If 1: I fly to Italy\n",
    " * If not 1: I fly to China\n",
    "\n",
    "During my trip, I got Covid. What is the probability that I flew to China?"
   ]
  },
  {
   "cell_type": "code",
   "execution_count": null,
   "metadata": {},
   "outputs": [],
   "source": [
    "# YOUR CODE HERE\n",
    "# Given probabilities\n",
    "p_italy = 1/6\n",
    "p_china = 5/6\n",
    "p_covid_given_italy = 0.20\n",
    "p_covid_given_china = 0.01\n",
    "\n",
    "# Total probability of getting Covid\n",
    "p_covid = (p_china * p_covid_given_china) + (p_italy * p_covid_given_italy)\n",
    "\n",
    "# Bayes' theorem\n",
    "p_china_given_covid = (p_china * p_covid_given_china) / p_covid\n",
    "\n",
    "# Display results\n",
    "print(\"=== Probability of having flown to China given you got Covid ===\")\n",
    "print(f\"P(China | Covid) = {p_china_given_covid:.2f}\")\n",
    "print(f\"That means there's a {p_china_given_covid * 100:.1f}% chance you flew to China.\")"
   ]
  },
  {
   "cell_type": "markdown",
   "metadata": {},
   "source": [
    "## BONUS\n",
    "\n",
    "You roll 2 dice. What is the probability that the sum of the numbers is 7? And 8? And 9? Then simulate 10000 times and draw a countplot."
   ]
  },
  {
   "cell_type": "markdown",
   "metadata": {},
   "source": [
    "your explanation here"
   ]
  },
  {
   "cell_type": "code",
   "execution_count": 13,
   "metadata": {},
   "outputs": [
    {
     "name": "stdout",
     "output_type": "stream",
     "text": [
      "=== Simulation Results ===\n",
      "Sum = 7 → 1616 times (0.162)\n",
      "Sum = 8 → 1414 times (0.141)\n",
      "Sum = 9 → 1105 times (0.111)\n"
     ]
    },
    {
     "data": {
      "image/png": "[encoded data removed]",
      "text/plain": [
       "<Figure size 640x480 with 1 Axes>"
      ]
     },
     "metadata": {},
     "output_type": "display_data"
    }
   ],
   "source": [
    "# YOUR CODE HERE\n",
    "import numpy as np\n",
    "import seaborn as sns\n",
    "import matplotlib.pyplot as plt\n",
    "\n",
    "# Set seed for reproducibility (optional)\n",
    "np.random.seed(42)\n",
    "\n",
    "# Number of simulations\n",
    "n = 10000\n",
    "\n",
    "# Roll two dice\n",
    "die1 = np.random.randint(1, 7, n)\n",
    "die2 = np.random.randint(1, 7, n)\n",
    "\n",
    "# Compute their sums\n",
    "sums = die1 + die2\n",
    "\n",
    "# Count how many times we get 7, 8, or 9\n",
    "count_7 = np.sum(sums == 7)\n",
    "count_8 = np.sum(sums == 8)\n",
    "count_9 = np.sum(sums == 9)\n",
    "\n",
    "# Print results\n",
    "print(\"=== Simulation Results ===\")\n",
    "print(f\"Sum = 7 → {count_7} times ({count_7/n:.3f})\")\n",
    "print(f\"Sum = 8 → {count_8} times ({count_8/n:.3f})\")\n",
    "print(f\"Sum = 9 → {count_9} times ({count_9/n:.3f})\")\n",
    "\n",
    "# Draw countplot for sums\n",
    "sns.countplot(x=sums, color=\"skyblue\", edgecolor=\"black\")\n",
    "plt.title(\"Distribution of Dice Sums (10,000 Rolls)\")\n",
    "plt.xlabel(\"Sum of Two Dice\")\n",
    "plt.ylabel(\"Frequency\")\n",
    "plt.show()\n"
   ]
  }
 ],
 "metadata": {
  "kernelspec": {
   "display_name": "Python [conda env:base] *",
   "language": "python",
   "name": "conda-base-py"
  },
  "language_info": {
   "codemirror_mode": {
    "name": "ipython",
    "version": 3
   },
   "file_extension": ".py",
   "mimetype": "text/x-python",
   "name": "python",
   "nbconvert_exporter": "python",
   "pygments_lexer": "ipython3",
   "version": "3.13.5"
  },
  "toc": {
   "base_numbering": 1,
   "nav_menu": {},
   "number_sections": false,
   "sideBar": true,
   "skip_h1_title": false,
   "title_cell": "Table of Contents",
   "title_sidebar": "Contents",
   "toc_cell": false,
   "toc_position": {
    "height": "calc(100% - 180px)",
    "left": "10px",
    "top": "150px",
    "width": "296.475px"
   },
   "toc_section_display": true,
   "toc_window_display": false
  },
  "varInspector": {
   "cols": {
    "lenName": 16,
    "lenType": 16,
    "lenVar": 40
   },
   "kernels_config": {
    "python": {
     "delete_cmd_postfix": "",
     "delete_cmd_prefix": "del ",
     "library": "var_list.py",
     "varRefreshCmd": "print(var_dic_list())"
    },
    "r": {
     "delete_cmd_postfix": ") ",
     "delete_cmd_prefix": "rm(",
     "library": "var_list.r",
     "varRefreshCmd": "cat(var_dic_list()) "
    }
   },
   "types_to_exclude": [
    "module",
    "function",
    "builtin_function_or_method",
    "instance",
    "_Feature"
   ],
   "window_display": false
  }
 },
 "nbformat": 4,
 "nbformat_minor": 4
}
